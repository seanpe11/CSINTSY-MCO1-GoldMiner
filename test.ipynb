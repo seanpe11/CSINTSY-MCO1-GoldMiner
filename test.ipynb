{
 "metadata": {
  "language_info": {
   "codemirror_mode": {
    "name": "ipython",
    "version": 3
   },
   "file_extension": ".py",
   "mimetype": "text/x-python",
   "name": "python",
   "nbconvert_exporter": "python",
   "pygments_lexer": "ipython3",
   "version": "3.7.6-final"
  },
  "orig_nbformat": 2,
  "kernelspec": {
   "name": "python3",
   "display_name": "Python 3"
  }
 },
 "nbformat": 4,
 "nbformat_minor": 2,
 "cells": [
  {
   "cell_type": "code",
   "execution_count": 1,
   "metadata": {},
   "outputs": [
    {
     "output_type": "stream",
     "name": "stdout",
     "text": [
      "['G', 0, 'B', None, None]\n[None, None, 0, 'B', None]\n[None, None, 0, None, None]\n[None, None, None, None, None]\n[None, None, None, None, None]\n"
     ]
    }
   ],
   "source": [
    "from miner import *\n",
    "\n",
    "mineField = Grid(5, (1,1), [(1,2), (2, 3), (3, 3)], [(1,3), (2, 4)])\n",
    "miner = Miner()\n",
    "\n",
    "\n",
    "for coord in mineField.coords:\n",
    "    print(coord)\n",
    "\n",
    "\n",
    "\n",
    "\n",
    "\n",
    "\n",
    "\n"
   ]
  },
  {
   "cell_type": "code",
   "execution_count": 4,
   "metadata": {},
   "outputs": [
    {
     "output_type": "stream",
     "name": "stdout",
     "text": [
      "Front = East\nEAST\nScan    = B\nMinerX  = 0\nMinerY  = 0\nmineLoc = None\nmineLoc = 0\nWin\n"
     ]
    }
   ],
   "source": [
    "\n",
    "\n",
    "\n",
    "\n",
    "if miner.front==1:\n",
    "    print(\"Front = North\")\n",
    "elif miner.front==2:\n",
    "    print(\"Front = East\")\n",
    "elif miner.front==3:\n",
    "    print(\"Front = South\")\n",
    "elif miner.front==4:\n",
    "    print(\"Front = West\")\n",
    "\n",
    "print(\"Scan    = \"+ str(miner.scan(mineField)))\n",
    "print(\"MinerX  = \" + str(miner.x))\n",
    "print(\"MinerY  = \" + str(miner.y))\n",
    "print(\"mineLoc = \" + str(mineField.coords[miner.x+1][miner.y]))\n",
    "print(\"mineLoc = \" + str(mineField.coords[miner.x][miner.y+1]))\n",
    "\n",
    "if(mineField.coords[miner.x][miner.y] == 'G'):\n",
    "    print(\"Win\")\n",
    "\n",
    "\n",
    "\n"
   ]
  },
  {
   "cell_type": "code",
   "execution_count": 34,
   "metadata": {},
   "outputs": [],
   "source": [
    "\n",
    "miner = Miner()\n",
    "print(miner.rotateCtr)\n",
    "\n"
   ]
  },
  {
   "source": [
    "Initialize a grid\n",
    "\n",
    "Initialize miner with its behavior (smart or random)\n",
    "\n",
    "Start the game loop\n",
    "\n",
    "Miner updates its **own** position\n",
    "\n",
    "(smart only) saves previously traversed squares\n",
    "\n",
    "Scans from the grid, never changes the grid\n",
    "\n",
    "Gui stuff"
   ],
   "cell_type": "markdown",
   "metadata": {}
  },
  {
   "cell_type": "code",
   "execution_count": 135,
   "metadata": {},
   "outputs": [
    {
     "output_type": "stream",
     "name": "stdout",
     "text": [
      "0\n"
     ]
    }
   ],
   "source": [
    "\n",
    "\n"
   ]
  },
  {
   "cell_type": "code",
   "execution_count": null,
   "metadata": {},
   "outputs": [],
   "source": []
  }
 ]
}