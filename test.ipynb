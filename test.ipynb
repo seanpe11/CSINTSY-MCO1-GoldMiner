{
 "metadata": {
  "language_info": {
   "codemirror_mode": {
    "name": "ipython",
    "version": 3
   },
   "file_extension": ".py",
   "mimetype": "text/x-python",
   "name": "python",
   "nbconvert_exporter": "python",
   "pygments_lexer": "ipython3",
   "version": "3.7.6-final"
  },
  "orig_nbformat": 2,
  "kernelspec": {
   "name": "python3",
   "display_name": "Python 3"
  }
 },
 "nbformat": 4,
 "nbformat_minor": 2,
 "cells": [
  {
   "cell_type": "code",
   "execution_count": 1,
   "metadata": {},
   "outputs": [
    {
     "output_type": "stream",
     "name": "stdout",
     "text": [
      "['G', 0, 'B', None, None]\n[None, None, 0, 'B', None]\n[None, None, 0, None, None]\n[None, None, None, None, None]\n[None, None, None, None, None]\n"
     ]
    }
   ],
   "source": [
    "from miner import *\n",
    "\n",
    "mineField = Grid(5, (1,1), [(1,2), (2, 3), (3, 3)], [(1,3), (2, 4)])\n",
    "miner = Miner()\n",
    "\n",
    "\n",
    "for coord in mineField.coords:\n",
    "    print(coord)\n",
    "\n",
    "\n",
    "\n",
    "\n",
    "\n",
    "\n",
    "\n"
   ]
  },
  {
   "cell_type": "code",
   "execution_count": 2,
   "metadata": {},
   "outputs": [
    {
     "output_type": "stream",
     "name": "stdout",
     "text": [
      "Front = East\nG\n['G', 0, 'B', None, None]\n[None, None, 0, 'B', None]\n[None, None, 0, None, None]\n[None, None, None, None, None]\n[None, None, None, None, None]\n"
     ]
    }
   ],
   "source": [
    "\n",
    "\n",
    "\n",
    "\n",
    "\n",
    "if miner.front==1:\n",
    "    print(\"Front = North\")\n",
    "elif miner.front==2:\n",
    "    print(\"Front = East\")\n",
    "elif miner.front==3:\n",
    "    print(\"Front = South\")\n",
    "elif miner.front==4:\n",
    "    print(\"Front = West\")\n",
    "\n",
    "\n",
    "\n",
    "\n",
    "\n",
    "for coord in mineField.coords:\n",
    "    print(coord)\n",
    "\n",
    "\n",
    "\n"
   ]
  },
  {
   "cell_type": "code",
   "execution_count": 34,
   "metadata": {},
   "outputs": [],
   "source": [
    "\n",
    "\n",
    "print(\"Scan    = \"+ str(miner.scan(mineField)))\n",
    "print(\"MinerX  = \" + str(miner.x))\n",
    "print(\"MinerY  = \" + str(miner.y))\n",
    "\n",
    "\n"
   ]
  },
  {
   "source": [
    "Initialize a grid\n",
    "\n",
    "Initialize miner with its behavior (smart or random)\n",
    "\n",
    "Start the game loop\n",
    "\n",
    "Miner updates its **own** position\n",
    "\n",
    "(smart only) saves previously traversed squares\n",
    "\n",
    "Scans from the grid, never changes the grid\n",
    "\n",
    "Gui stuff"
   ],
   "cell_type": "markdown",
   "metadata": {}
  },
  {
   "cell_type": "code",
   "execution_count": 73,
   "metadata": {
    "tags": []
   },
   "outputs": [
    {
     "output_type": "stream",
     "name": "stdout",
     "text": [
      "[None, 0, 'B', None, None]\n[None, None, 0, 'B', None]\n[None, 'G', 1, None, None]\n[None, None, None, None, None]\n[None, None, None, None, None]\nCoordinates (0,1)\nCoordinates (0,2)\nCoordinates (0,3)\nCoordinates (0,3)\nCoordinates (1,3)\nCoordinates (1,3)\nCoordinates (1,3)\nCoordinates (1,3)\nCoordinates (0,3)\nCoordinates (0,3)\nCoordinates (0,3)\nCoordinates (0,4)\nCoordinates (0,4)\nCoordinates (0,4)\nCoordinates (0,4)\nCoordinates (0,4)\nCoordinates (0,4)\nCoordinates (0,4)\nCoordinates (1,4)\nCoordinates (1,4)\nCoordinates (2,4)\nCoordinates (2,4)\nCoordinates (2,4)\nCoordinates (1,4)\nCoordinates (1,4)\nCoordinates (1,4)\nCoordinates (1,4)\nCoordinates (1,4)\nCoordinates (1,4)\nCoordinates (1,4)\nCoordinates (1,4)\nCoordinates (1,4)\nCoordinates (1,4)\nCoordinates (1,4)\nCoordinates (1,4)\nCoordinates (1,4)\nCoordinates (2,4)\nCoordinates (2,4)\nCoordinates (2,4)\nCoordinates (2,4)\nCoordinates (2,3)\nCoordinates (2,3)\nCoordinates (2,3)\nCoordinates (2,3)\nCoordinates (2,3)\nCoordinates (2,3)\nCoordinates (2,3)\nCoordinates (2,3)\nCoordinates (2,3)\nCoordinates (2,2)\nCoordinates (2,2)\nCoordinates (2,2)\nCoordinates (2,2)\nCoordinates (2,2)\nCoordinates (2,2)\nCoordinates (2,2)\nCoordinates (2,2)\nCoordinates (2,2)\nCoordinates (2,2)\nCoordinates (2,1)\nMOVES = 16\nROTATE = 22\nSCAN = 22\n"
     ]
    }
   ],
   "source": [
    "\n",
    "mine = RandomMiner()\n",
    "newGrid = Grid(5, (3,2), [(1,2), (2, 3), (3, 3)], [(1,3), (2, 4)])\n",
    "\n",
    "for i in newGrid.coords:\n",
    "    print(i)\n",
    "\n",
    "\n",
    "while mine.curGrid(newGrid) != 'G':\n",
    "    mine.action(newGrid)\n",
    "    print(\"Coordinates (\" + str(mine.x) + \",\" + str(mine.y)+\")\")\n",
    "    if mine.curGrid(newGrid) == 'G':\n",
    "        break\n",
    "print(\"MOVES = \" + str(mine.moveCtr))\n",
    "print(\"ROTATE = \" + str(mine.rotateCtr))\n",
    "print(\"SCAN = \" + str(mine.scanCtr))\n",
    "    \n",
    "\n",
    "\n",
    "\n",
    "\n",
    "\n",
    "\n"
   ]
  },
  {
   "cell_type": "code",
   "execution_count": 41,
   "metadata": {},
   "outputs": [
    {
     "output_type": "stream",
     "name": "stdout",
     "text": [
      "[None, 0, 'B', None, None]\n[None, None, 'M', 'B', None]\n[None, 'G', 1, None, None]\n[None, None, None, None, None]\n[None, None, None, None, None]\n"
     ]
    }
   ],
   "source": [
    "from miner import  *\n",
    "mine = SmartMiner()\n",
    "newGrid = Grid(5, (3,2), [ (2, 3), (3, 3)], [(1,3), (2, 4)])\n",
    "arr = [(2,2)]\n",
    "arr.append('NULL')\n",
    "x=1\n",
    "y=2\n",
    "# north\n",
    "newGrid.coords[x][y] = 'M'\n",
    "\n",
    "tempX = x\n",
    "tempY = y\n",
    "for i in newGrid.coords:\n",
    "    print(i)\n",
    "\n",
    "\n"
   ]
  },
  {
   "cell_type": "code",
   "execution_count": 56,
   "metadata": {},
   "outputs": [
    {
     "output_type": "stream",
     "name": "stdout",
     "text": [
      "1\n0 2\n"
     ]
    }
   ],
   "source": [
    "\n",
    "\n",
    "tempX = x\n",
    "tempY = y\n",
    "#NORTH SCAN\n",
    "for i in range(len(newGrid.coords)):\n",
    "    print(tempX)\n",
    "    if(tempX == 0):\n",
    "        break\n",
    "    else:\n",
    "        tempX-=1\n",
    "    \n",
    "    if(newGrid.coords[tempX][tempY] == 'B'):\n",
    "        print (str(tempX) +\" \"+ str(tempY))\n",
    "        break\n"
   ]
  },
  {
   "cell_type": "code",
   "execution_count": 63,
   "metadata": {},
   "outputs": [
    {
     "output_type": "stream",
     "name": "stdout",
     "text": [
      "2\n1 3\n"
     ]
    }
   ],
   "source": [
    "tempX = x\n",
    "tempY = y\n",
    "\n",
    "#EAST SCAN\n",
    "for i in range(len(newGrid.coords)):\n",
    "    print(tempY)\n",
    "    if(tempY == len(newGrid.coords)):\n",
    "        break\n",
    "    else:\n",
    "        tempY+=1\n",
    "    if(newGrid.coords[tempX][tempY] == 'B'):\n",
    "        print (str(tempX) +\" \"+ str(tempY))\n",
    "        break\n",
    "\n"
   ]
  },
  {
   "cell_type": "code",
   "execution_count": 64,
   "metadata": {},
   "outputs": [
    {
     "output_type": "stream",
     "name": "stdout",
     "text": [
      "1\n2\n3\n4\n"
     ]
    },
    {
     "output_type": "error",
     "ename": "IndexError",
     "evalue": "list index out of range",
     "traceback": [
      "\u001b[1;31m---------------------------------------------------------------------------\u001b[0m",
      "\u001b[1;31mIndexError\u001b[0m                                Traceback (most recent call last)",
      "\u001b[1;32m<ipython-input-64-e38e54985b4b>\u001b[0m in \u001b[0;36m<module>\u001b[1;34m\u001b[0m\n\u001b[0;32m      8\u001b[0m     \u001b[1;32melse\u001b[0m\u001b[1;33m:\u001b[0m\u001b[1;33m\u001b[0m\u001b[1;33m\u001b[0m\u001b[0m\n\u001b[0;32m      9\u001b[0m         \u001b[0mtempX\u001b[0m\u001b[1;33m+=\u001b[0m\u001b[1;36m1\u001b[0m\u001b[1;33m\u001b[0m\u001b[1;33m\u001b[0m\u001b[0m\n\u001b[1;32m---> 10\u001b[1;33m     \u001b[1;32mif\u001b[0m\u001b[1;33m(\u001b[0m\u001b[0mnewGrid\u001b[0m\u001b[1;33m.\u001b[0m\u001b[0mcoords\u001b[0m\u001b[1;33m[\u001b[0m\u001b[0mtempX\u001b[0m\u001b[1;33m]\u001b[0m\u001b[1;33m[\u001b[0m\u001b[0mtempY\u001b[0m\u001b[1;33m]\u001b[0m \u001b[1;33m==\u001b[0m \u001b[1;34m'B'\u001b[0m\u001b[1;33m)\u001b[0m\u001b[1;33m:\u001b[0m\u001b[1;33m\u001b[0m\u001b[1;33m\u001b[0m\u001b[0m\n\u001b[0m\u001b[0;32m     11\u001b[0m         \u001b[0mprint\u001b[0m \u001b[1;33m(\u001b[0m\u001b[0mstr\u001b[0m\u001b[1;33m(\u001b[0m\u001b[0mtempX\u001b[0m\u001b[1;33m)\u001b[0m \u001b[1;33m+\u001b[0m\u001b[1;34m\" \"\u001b[0m\u001b[1;33m+\u001b[0m \u001b[0mstr\u001b[0m\u001b[1;33m(\u001b[0m\u001b[0mtempY\u001b[0m\u001b[1;33m)\u001b[0m\u001b[1;33m)\u001b[0m\u001b[1;33m\u001b[0m\u001b[1;33m\u001b[0m\u001b[0m\n\u001b[0;32m     12\u001b[0m         \u001b[1;32mbreak\u001b[0m\u001b[1;33m\u001b[0m\u001b[1;33m\u001b[0m\u001b[0m\n",
      "\u001b[1;31mIndexError\u001b[0m: list index out of range"
     ]
    }
   ],
   "source": [
    "tempX = x\n",
    "tempY = y\n",
    "#SOUTH SCAN\n",
    "for i in range(len(newGrid.coords) - 1  ):\n",
    "    print(tempX)\n",
    "    if(tempX == len(newGrid.coords)):\n",
    "        break\n",
    "    else:\n",
    "        tempX+=1\n",
    "    if(newGrid.coords[tempX][tempY] == 'B'):\n",
    "        print (str(tempX) +\" \"+ str(tempY))\n",
    "        break\n"
   ]
  },
  {
   "cell_type": "code",
   "execution_count": null,
   "metadata": {},
   "outputs": [],
   "source": [
    "tempX = x\n",
    "tempY = y\n",
    "#WEST SCAN\n",
    "for i in range(len(newGrid.coords)):\n",
    "    print(tempY)\n",
    "    if(tempY == 0):\n",
    "        break\n",
    "    else:\n",
    "        tempY-=1\n",
    "    if(newGrid.coords[tempX][tempY] == 'B'):\n",
    "        print (str(tempX) +\" \"+ str(tempY))\n",
    "        break"
   ]
  }
 ]
}