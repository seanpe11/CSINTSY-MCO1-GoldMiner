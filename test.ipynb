{
 "metadata": {
  "language_info": {
   "codemirror_mode": {
    "name": "ipython",
    "version": 3
   },
   "file_extension": ".py",
   "mimetype": "text/x-python",
   "name": "python",
   "nbconvert_exporter": "python",
   "pygments_lexer": "ipython3",
   "version": "3.7.6-final"
  },
  "orig_nbformat": 2,
  "kernelspec": {
   "name": "python3",
   "display_name": "Python 3"
  }
 },
 "nbformat": 4,
 "nbformat_minor": 2,
 "cells": [
  {
   "cell_type": "code",
   "execution_count": 98,
   "metadata": {},
   "outputs": [
    {
     "output_type": "stream",
     "name": "stdout",
     "text": [
      "[3, 2, 1, 0, 0]\n[0, 0, 2, 1, 0]\n[0, 0, 2, 0, 0]\n[0, 0, 0, 0, 0]\n[0, 0, 0, 0, 0]\n2\n2\n1\n0\nNULL\n"
     ]
    }
   ],
   "source": [
    "from miner import *\n",
    "\n",
    "mineField = Grid(5, (1,1), [(1,2), (2, 3), (3, 3)], [(1,3), (2, 4)])\n",
    "miner = Miner()\n",
    "\n",
    "\n",
    "for coord in wow.coords:\n",
    "    print(coord)\n",
    "\n",
    "print(miner.front)\n",
    "print(miner.front)\n",
    "miner.rotate()\n",
    "miner.rotate()\n",
    "miner.move(len(mineField.coords))\n",
    "\n",
    "print(miner.x)\n",
    "print(miner.y)\n",
    "\n",
    "print(miner.scan(mineField.coords[miner.x][miner.y]))\n",
    "\n",
    "\n",
    "\n",
    "\n",
    "\n",
    "\n"
   ]
  },
  {
   "cell_type": "code",
   "execution_count": 6,
   "metadata": {},
   "outputs": [
    {
     "output_type": "execute_result",
     "data": {
      "text/plain": [
       "[(1, 2), (2, 3), (3, 3)]"
      ]
     },
     "metadata": {},
     "execution_count": 6
    }
   ],
   "source": [
    "wow.beacons"
   ]
  },
  {
   "cell_type": "code",
   "execution_count": 51,
   "metadata": {},
   "outputs": [
    {
     "output_type": "stream",
     "name": "stdout",
     "text": [
      "Hello\n"
     ]
    }
   ],
   "source": [
    "class test:\n",
    "    def __init__(self):\n",
    "        self.x = 4\n",
    "        self.y = 0\n",
    "    def boolTest(self):\n",
    "        if(self.x <= 4):\n",
    "            print(\"Hello\")\n",
    "new = test()\n",
    "\n",
    "new.boolTest()\n",
    "\n"
   ]
  },
  {
   "source": [
    "Initialize a grid\n",
    "\n",
    "Initialize miner with its behavior (smart or random)\n",
    "\n",
    "Start the game loop\n",
    "\n",
    "Miner updates its **own** position\n",
    "\n",
    "(smart only) saves previously traversed squares\n",
    "\n",
    "Scans from the grid, never changes the grid\n",
    "\n",
    "Gui stuff"
   ],
   "cell_type": "markdown",
   "metadata": {}
  },
  {
   "cell_type": "code",
   "execution_count": 22,
   "metadata": {},
   "outputs": [
    {
     "output_type": "stream",
     "name": "stdout",
     "text": [
      "0\n"
     ]
    }
   ],
   "source": [
    "miner = Miner()\n",
    "print(miner.rotateCtr)\n",
    "\n",
    "\n"
   ]
  },
  {
   "cell_type": "code",
   "execution_count": null,
   "metadata": {},
   "outputs": [],
   "source": []
  }
 ]
}